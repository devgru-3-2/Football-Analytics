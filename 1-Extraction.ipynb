{
 "cells": [
  {
   "cell_type": "code",
   "execution_count": 1,
   "id": "489dc294",
   "metadata": {},
   "outputs": [],
   "source": [
    "from bs4 import BeautifulSoup\n",
    "import requests\n",
    "import pandas as pd\n",
    "years = [1930, 1934, 1938, 1950, 1954, 1958, 1962, 1966,\n",
    "         1970, 1974, 1978, 1982, 1986, 1990, 1994, 1998,\n",
    "         2002, 2006, 2010, 2014, 2018]\n",
    "\n",
    "def get_matches(year):\n",
    "    web = f'https://en.wikipedia.org/wiki/{year}_FIFA_World_Cup'\n",
    "    response = requests.get(web)\n",
    "    content = response.text\n",
    "    soup = BeautifulSoup(content,'lxml')\n",
    "\n",
    "    matches = soup.find_all('div',class_='footballbox')\n",
    "    home = []\n",
    "    score = []\n",
    "    away = []\n",
    "    for match in matches:\n",
    "        home.append(match.find('th',class_='fhome').get_text())\n",
    "        score.append(match.find('th',class_='fscore').get_text())\n",
    "        away.append(match.find('th',class_='faway').get_text())\n",
    "\n",
    "    dict_football = {'home':home,'score':score,'away':away}\n",
    "\n",
    "    df_football = pd.DataFrame(dict_football)\n",
    "\n",
    "    df_football['year'] = year\n",
    "    return df_football\n",
    "\n",
    "def get_matches1(year):\n",
    "    web = 'https://web.archive.org/web/20221115040351/https://en.wikipedia.org/wiki/2022_FIFA_World_Cup'\n",
    "    response = requests.get(web)\n",
    "    content = response.text\n",
    "    soup = BeautifulSoup(content,'lxml')\n",
    "\n",
    "    matches = soup.find_all('div',class_='footballbox')\n",
    "    home = []\n",
    "    score = []\n",
    "    away = []\n",
    "    for match in matches:\n",
    "        home.append(match.find('th',class_='fhome').get_text())\n",
    "        score.append(match.find('th',class_='fscore').get_text())\n",
    "        away.append(match.find('th',class_='faway').get_text())\n",
    "\n",
    "    dict_football = {'home':home,'score':score,'away':away}\n",
    "\n",
    "    df_football = pd.DataFrame(dict_football)\n",
    "\n",
    "    df_football['year'] = year\n",
    "    return df_football\n",
    "\n",
    "fifa = [get_matches(year) for year in years]\n",
    "df_fifa = pd.concat(fifa, ignore_index = True)\n",
    "df_fifa.to_csv('fifa_wc_historical_data.csv',index = False)\n",
    "\n",
    "df_fixture = get_matches1(2022)\n",
    "df_fixture.to_csv('fifa_wc_fixtures.csv',index=False)"
   ]
  },
  {
   "cell_type": "code",
   "execution_count": null,
   "id": "3a7552a1",
   "metadata": {},
   "outputs": [],
   "source": []
  }
 ],
 "metadata": {
  "kernelspec": {
   "display_name": "Python 3 (ipykernel)",
   "language": "python",
   "name": "python3"
  },
  "language_info": {
   "codemirror_mode": {
    "name": "ipython",
    "version": 3
   },
   "file_extension": ".py",
   "mimetype": "text/x-python",
   "name": "python",
   "nbconvert_exporter": "python",
   "pygments_lexer": "ipython3",
   "version": "3.10.0"
  }
 },
 "nbformat": 4,
 "nbformat_minor": 5
}
